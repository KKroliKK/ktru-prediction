{
 "cells": [
  {
   "cell_type": "markdown",
   "metadata": {},
   "source": [
    "# Imports"
   ]
  },
  {
   "cell_type": "code",
   "execution_count": 1,
   "metadata": {},
   "outputs": [],
   "source": [
    "import pandas as pd\n",
    "import gc\n",
    "from data_preparation import *"
   ]
  },
  {
   "cell_type": "code",
   "execution_count": 2,
   "metadata": {},
   "outputs": [
    {
     "data": {
      "text/plain": [
       "23"
      ]
     },
     "execution_count": 2,
     "metadata": {},
     "output_type": "execute_result"
    }
   ],
   "source": [
    "gc.collect()"
   ]
  },
  {
   "cell_type": "markdown",
   "metadata": {},
   "source": [
    "# Tables"
   ]
  },
  {
   "cell_type": "code",
   "execution_count": 10,
   "metadata": {},
   "outputs": [
    {
     "name": "stdout",
     "output_type": "stream",
     "text": [
      "cc.ru.300.bin  notebook.ipynb\t      products.csv\n",
      "ktru.csv       products_annotate.csv  products_with_ktru.csv\n"
     ]
    }
   ],
   "source": [
    "!ls"
   ]
  },
  {
   "cell_type": "markdown",
   "metadata": {},
   "source": [
    "## products"
   ]
  },
  {
   "cell_type": "code",
   "execution_count": 13,
   "metadata": {},
   "outputs": [
    {
     "name": "stderr",
     "output_type": "stream",
     "text": [
      "/tmp/ipykernel_671133/3691967246.py:1: DtypeWarning: Columns (7,8) have mixed types. Specify dtype option on import or set low_memory=False.\n",
      "  products = pd.read_csv('products.csv')\n"
     ]
    },
    {
     "data": {
      "text/html": [
       "<div>\n",
       "<style scoped>\n",
       "    .dataframe tbody tr th:only-of-type {\n",
       "        vertical-align: middle;\n",
       "    }\n",
       "\n",
       "    .dataframe tbody tr th {\n",
       "        vertical-align: top;\n",
       "    }\n",
       "\n",
       "    .dataframe thead th {\n",
       "        text-align: right;\n",
       "    }\n",
       "</style>\n",
       "<table border=\"1\" class=\"dataframe\">\n",
       "  <thead>\n",
       "    <tr style=\"text-align: right;\">\n",
       "      <th></th>\n",
       "      <th>Unnamed: 0</th>\n",
       "      <th>id</th>\n",
       "      <th>okdp2</th>\n",
       "      <th>okpd2_code</th>\n",
       "      <th>okpd2_name</th>\n",
       "      <th>okei_code</th>\n",
       "      <th>ktru</th>\n",
       "      <th>ktru_code</th>\n",
       "      <th>ktru_name</th>\n",
       "      <th>product_name</th>\n",
       "      <th>product_descr</th>\n",
       "    </tr>\n",
       "  </thead>\n",
       "  <tbody>\n",
       "    <tr>\n",
       "      <th>0</th>\n",
       "      <td>0</td>\n",
       "      <td>60</td>\n",
       "      <td>2090.0</td>\n",
       "      <td>08.12.11.190</td>\n",
       "      <td>Пески природные, не включенные в другие группи...</td>\n",
       "      <td>113.0</td>\n",
       "      <td>NaN</td>\n",
       "      <td>NaN</td>\n",
       "      <td>NaN</td>\n",
       "      <td>ПЕСОК ПРИРОДНЫЙ</td>\n",
       "      <td>ПЕСОК ПРИРОДНЫЙ, Неорганический сыпучий матери...</td>\n",
       "    </tr>\n",
       "    <tr>\n",
       "      <th>1</th>\n",
       "      <td>1</td>\n",
       "      <td>62</td>\n",
       "      <td>7966.0</td>\n",
       "      <td>21.20.10.134</td>\n",
       "      <td>Растворы плазмозамещающие и перфузионные</td>\n",
       "      <td>113.0</td>\n",
       "      <td>NaN</td>\n",
       "      <td>NaN</td>\n",
       "      <td>NaN</td>\n",
       "      <td>ГРАВИЙ ФР 5*20</td>\n",
       "      <td>ГРАВИЙ ФР 5*20, Неорганический зернистый сыпуч...</td>\n",
       "    </tr>\n",
       "    <tr>\n",
       "      <th>2</th>\n",
       "      <td>2</td>\n",
       "      <td>64</td>\n",
       "      <td>7227.0</td>\n",
       "      <td>20.14.34.121</td>\n",
       "      <td>Кислота терефталевая</td>\n",
       "      <td>168.0</td>\n",
       "      <td>NaN</td>\n",
       "      <td>NaN</td>\n",
       "      <td>NaN</td>\n",
       "      <td>Кислота терефталевая очищенная</td>\n",
       "      <td>Кислота терефталевая очищенная, Для получения ...</td>\n",
       "    </tr>\n",
       "  </tbody>\n",
       "</table>\n",
       "</div>"
      ],
      "text/plain": [
       "   Unnamed: 0  id   okdp2    okpd2_code  \\\n",
       "0           0  60  2090.0  08.12.11.190   \n",
       "1           1  62  7966.0  21.20.10.134   \n",
       "2           2  64  7227.0  20.14.34.121   \n",
       "\n",
       "                                          okpd2_name  okei_code  ktru  \\\n",
       "0  Пески природные, не включенные в другие группи...      113.0   NaN   \n",
       "1           Растворы плазмозамещающие и перфузионные      113.0   NaN   \n",
       "2                               Кислота терефталевая      168.0   NaN   \n",
       "\n",
       "  ktru_code ktru_name                    product_name  \\\n",
       "0       NaN       NaN                 ПЕСОК ПРИРОДНЫЙ   \n",
       "1       NaN       NaN                  ГРАВИЙ ФР 5*20   \n",
       "2       NaN       NaN  Кислота терефталевая очищенная   \n",
       "\n",
       "                                       product_descr  \n",
       "0  ПЕСОК ПРИРОДНЫЙ, Неорганический сыпучий матери...  \n",
       "1  ГРАВИЙ ФР 5*20, Неорганический зернистый сыпуч...  \n",
       "2  Кислота терефталевая очищенная, Для получения ...  "
      ]
     },
     "execution_count": 13,
     "metadata": {},
     "output_type": "execute_result"
    }
   ],
   "source": [
    "products = pd.read_csv('products.csv')\n",
    "products.head(3)"
   ]
  },
  {
   "cell_type": "code",
   "execution_count": 21,
   "metadata": {},
   "outputs": [
    {
     "data": {
      "text/plain": [
       "Unnamed: 0         int64\n",
       "id                 int64\n",
       "okdp2            float64\n",
       "okpd2_code        object\n",
       "okpd2_name        object\n",
       "okei_code        float64\n",
       "ktru             float64\n",
       "ktru_code         object\n",
       "ktru_name         object\n",
       "product_name      object\n",
       "product_descr     object\n",
       "dtype: object"
      ]
     },
     "execution_count": 21,
     "metadata": {},
     "output_type": "execute_result"
    }
   ],
   "source": [
    "products.dtypes"
   ]
  },
  {
   "cell_type": "code",
   "execution_count": 17,
   "metadata": {},
   "outputs": [
    {
     "data": {
      "text/plain": [
       "311729"
      ]
     },
     "execution_count": 17,
     "metadata": {},
     "output_type": "execute_result"
    }
   ],
   "source": [
    "products['ktru_code'].notnull().sum()"
   ]
  },
  {
   "cell_type": "markdown",
   "metadata": {},
   "source": [
    "## products_annotate"
   ]
  },
  {
   "cell_type": "code",
   "execution_count": 11,
   "metadata": {},
   "outputs": [
    {
     "data": {
      "text/html": [
       "<div>\n",
       "<style scoped>\n",
       "    .dataframe tbody tr th:only-of-type {\n",
       "        vertical-align: middle;\n",
       "    }\n",
       "\n",
       "    .dataframe tbody tr th {\n",
       "        vertical-align: top;\n",
       "    }\n",
       "\n",
       "    .dataframe thead th {\n",
       "        text-align: right;\n",
       "    }\n",
       "</style>\n",
       "<table border=\"1\" class=\"dataframe\">\n",
       "  <thead>\n",
       "    <tr style=\"text-align: right;\">\n",
       "      <th></th>\n",
       "      <th>product_id</th>\n",
       "      <th>product_name</th>\n",
       "      <th>okpd2_code</th>\n",
       "      <th>okpd2_name</th>\n",
       "      <th>ktru_code</th>\n",
       "      <th>ktru_name</th>\n",
       "    </tr>\n",
       "  </thead>\n",
       "  <tbody>\n",
       "    <tr>\n",
       "      <th>0</th>\n",
       "      <td>2598995</td>\n",
       "      <td>Полузаказные БИС Б1806ХМ1-4-451</td>\n",
       "      <td>26.11.30.000</td>\n",
       "      <td>Схемы интегральные электронные</td>\n",
       "      <td>NaN</td>\n",
       "      <td>NaN</td>\n",
       "    </tr>\n",
       "    <tr>\n",
       "      <th>1</th>\n",
       "      <td>2598997</td>\n",
       "      <td>Полузаказные БИС Б1806ХМ1-4-452</td>\n",
       "      <td>26.11.30.000</td>\n",
       "      <td>Схемы интегральные электронные</td>\n",
       "      <td>NaN</td>\n",
       "      <td>NaN</td>\n",
       "    </tr>\n",
       "    <tr>\n",
       "      <th>2</th>\n",
       "      <td>2651353</td>\n",
       "      <td>Втулка направляющая Ø 4,0/1,2 мм для спицы, № ...</td>\n",
       "      <td>32.50.13.190</td>\n",
       "      <td>Инструменты и приспособления, применяемые в ме...</td>\n",
       "      <td>NaN</td>\n",
       "      <td>NaN</td>\n",
       "    </tr>\n",
       "  </tbody>\n",
       "</table>\n",
       "</div>"
      ],
      "text/plain": [
       "   product_id                                       product_name  \\\n",
       "0     2598995                    Полузаказные БИС Б1806ХМ1-4-451   \n",
       "1     2598997                    Полузаказные БИС Б1806ХМ1-4-452   \n",
       "2     2651353  Втулка направляющая Ø 4,0/1,2 мм для спицы, № ...   \n",
       "\n",
       "     okpd2_code                                         okpd2_name ktru_code  \\\n",
       "0  26.11.30.000                     Схемы интегральные электронные       NaN   \n",
       "1  26.11.30.000                     Схемы интегральные электронные       NaN   \n",
       "2  32.50.13.190  Инструменты и приспособления, применяемые в ме...       NaN   \n",
       "\n",
       "  ktru_name  \n",
       "0       NaN  \n",
       "1       NaN  \n",
       "2       NaN  "
      ]
     },
     "execution_count": 11,
     "metadata": {},
     "output_type": "execute_result"
    }
   ],
   "source": [
    "products_annotate = pd.read_csv('products_annotate.csv')\n",
    "products_annotate.head(3)"
   ]
  },
  {
   "cell_type": "code",
   "execution_count": 22,
   "metadata": {},
   "outputs": [
    {
     "data": {
      "text/plain": [
       "product_id       int64\n",
       "product_name    object\n",
       "okpd2_code      object\n",
       "okpd2_name      object\n",
       "ktru_code       object\n",
       "ktru_name       object\n",
       "dtype: object"
      ]
     },
     "execution_count": 22,
     "metadata": {},
     "output_type": "execute_result"
    }
   ],
   "source": [
    "products_annotate.dtypes"
   ]
  },
  {
   "cell_type": "code",
   "execution_count": 18,
   "metadata": {},
   "outputs": [
    {
     "data": {
      "text/plain": [
       "325745"
      ]
     },
     "execution_count": 18,
     "metadata": {},
     "output_type": "execute_result"
    }
   ],
   "source": [
    "products_annotate['ktru_code'].notnull().sum()"
   ]
  },
  {
   "cell_type": "markdown",
   "metadata": {},
   "source": [
    "## products_with_ktru"
   ]
  },
  {
   "cell_type": "code",
   "execution_count": 34,
   "metadata": {},
   "outputs": [
    {
     "data": {
      "text/html": [
       "<div>\n",
       "<style scoped>\n",
       "    .dataframe tbody tr th:only-of-type {\n",
       "        vertical-align: middle;\n",
       "    }\n",
       "\n",
       "    .dataframe tbody tr th {\n",
       "        vertical-align: top;\n",
       "    }\n",
       "\n",
       "    .dataframe thead th {\n",
       "        text-align: right;\n",
       "    }\n",
       "</style>\n",
       "<table border=\"1\" class=\"dataframe\">\n",
       "  <thead>\n",
       "    <tr style=\"text-align: right;\">\n",
       "      <th></th>\n",
       "      <th>product_id</th>\n",
       "      <th>product_name</th>\n",
       "      <th>okpd2_code</th>\n",
       "      <th>okpd2_name</th>\n",
       "      <th>ktru_code</th>\n",
       "      <th>ktru_name</th>\n",
       "    </tr>\n",
       "  </thead>\n",
       "  <tbody>\n",
       "    <tr>\n",
       "      <th>0</th>\n",
       "      <td>2651463</td>\n",
       "      <td>Проводник Ø 3,2×700 мм, № 500.607</td>\n",
       "      <td>32.50.13.190</td>\n",
       "      <td>Инструменты и приспособления, применяемые в ме...</td>\n",
       "      <td>32.50.13.190-00006975</td>\n",
       "      <td>Проводник костного гвоздя</td>\n",
       "    </tr>\n",
       "    <tr>\n",
       "      <th>1</th>\n",
       "      <td>2651475</td>\n",
       "      <td>Насадка на направитель \"А/R\" боковая, № 515.120</td>\n",
       "      <td>32.50.13.190</td>\n",
       "      <td>Инструменты и приспособления, применяемые в ме...</td>\n",
       "      <td>32.50.13.190-00007285</td>\n",
       "      <td>Блок направляющий для установки ортопедическог...</td>\n",
       "    </tr>\n",
       "    <tr>\n",
       "      <th>2</th>\n",
       "      <td>2577867</td>\n",
       "      <td>Стеллаж библиотечный двусторонний</td>\n",
       "      <td>31.09.13.190</td>\n",
       "      <td>Мебель деревянная прочая, не включенная в друг...</td>\n",
       "      <td>31.09.13.190-00000008</td>\n",
       "      <td>Стеллаж библиотечный</td>\n",
       "    </tr>\n",
       "  </tbody>\n",
       "</table>\n",
       "</div>"
      ],
      "text/plain": [
       "   product_id                                     product_name    okpd2_code  \\\n",
       "0     2651463                Проводник Ø 3,2×700 мм, № 500.607  32.50.13.190   \n",
       "1     2651475  Насадка на направитель \"А/R\" боковая, № 515.120  32.50.13.190   \n",
       "2     2577867                Стеллаж библиотечный двусторонний  31.09.13.190   \n",
       "\n",
       "                                          okpd2_name              ktru_code  \\\n",
       "0  Инструменты и приспособления, применяемые в ме...  32.50.13.190-00006975   \n",
       "1  Инструменты и приспособления, применяемые в ме...  32.50.13.190-00007285   \n",
       "2  Мебель деревянная прочая, не включенная в друг...  31.09.13.190-00000008   \n",
       "\n",
       "                                           ktru_name  \n",
       "0                          Проводник костного гвоздя  \n",
       "1  Блок направляющий для установки ортопедическог...  \n",
       "2                               Стеллаж библиотечный  "
      ]
     },
     "execution_count": 34,
     "metadata": {},
     "output_type": "execute_result"
    }
   ],
   "source": [
    "products_with_ktru = pd.read_csv('products_with_ktru.csv')\n",
    "products_with_ktru = products_with_ktru[products_with_ktru['product_id'].notnull()]\n",
    "products_with_ktru.head(3)"
   ]
  },
  {
   "cell_type": "code",
   "execution_count": 33,
   "metadata": {},
   "outputs": [
    {
     "data": {
      "text/plain": [
       "product_id       int64\n",
       "product_name    object\n",
       "okpd2_code      object\n",
       "okpd2_name      object\n",
       "ktru_code       object\n",
       "ktru_name       object\n",
       "dtype: object"
      ]
     },
     "execution_count": 33,
     "metadata": {},
     "output_type": "execute_result"
    }
   ],
   "source": [
    "products_with_ktru['product_id'] = products_with_ktru['product_id'].astype(int)\n",
    "products_with_ktru.dtypes"
   ]
  },
  {
   "cell_type": "code",
   "execution_count": 20,
   "metadata": {},
   "outputs": [
    {
     "data": {
      "text/plain": [
       "333209"
      ]
     },
     "execution_count": 20,
     "metadata": {},
     "output_type": "execute_result"
    }
   ],
   "source": [
    "products_with_ktru['ktru_code'].notnull().sum()"
   ]
  },
  {
   "cell_type": "code",
   "execution_count": 44,
   "metadata": {},
   "outputs": [
    {
     "data": {
      "text/plain": [
       "(326668, 6)"
      ]
     },
     "execution_count": 44,
     "metadata": {},
     "output_type": "execute_result"
    }
   ],
   "source": [
    "products_with_ktru.shape"
   ]
  },
  {
   "cell_type": "code",
   "execution_count": 45,
   "metadata": {},
   "outputs": [
    {
     "data": {
      "text/html": [
       "<div>\n",
       "<style scoped>\n",
       "    .dataframe tbody tr th:only-of-type {\n",
       "        vertical-align: middle;\n",
       "    }\n",
       "\n",
       "    .dataframe tbody tr th {\n",
       "        vertical-align: top;\n",
       "    }\n",
       "\n",
       "    .dataframe thead th {\n",
       "        text-align: right;\n",
       "    }\n",
       "</style>\n",
       "<table border=\"1\" class=\"dataframe\">\n",
       "  <thead>\n",
       "    <tr style=\"text-align: right;\">\n",
       "      <th></th>\n",
       "      <th>product_id</th>\n",
       "      <th>product_name</th>\n",
       "      <th>okpd2_code</th>\n",
       "      <th>okpd2_name</th>\n",
       "      <th>ktru_code</th>\n",
       "      <th>ktru_name</th>\n",
       "    </tr>\n",
       "  </thead>\n",
       "  <tbody>\n",
       "    <tr>\n",
       "      <th>0</th>\n",
       "      <td>2651463</td>\n",
       "      <td>Проводник Ø 3,2×700 мм, № 500.607</td>\n",
       "      <td>32.50.13.190</td>\n",
       "      <td>Инструменты и приспособления, применяемые в ме...</td>\n",
       "      <td>32.50.13.190-00006975</td>\n",
       "      <td>Проводник костного гвоздя</td>\n",
       "    </tr>\n",
       "    <tr>\n",
       "      <th>1</th>\n",
       "      <td>2651475</td>\n",
       "      <td>Насадка на направитель \"А/R\" боковая, № 515.120</td>\n",
       "      <td>32.50.13.190</td>\n",
       "      <td>Инструменты и приспособления, применяемые в ме...</td>\n",
       "      <td>32.50.13.190-00007285</td>\n",
       "      <td>Блок направляющий для установки ортопедическог...</td>\n",
       "    </tr>\n",
       "    <tr>\n",
       "      <th>2</th>\n",
       "      <td>2577867</td>\n",
       "      <td>Стеллаж библиотечный двусторонний</td>\n",
       "      <td>31.09.13.190</td>\n",
       "      <td>Мебель деревянная прочая, не включенная в друг...</td>\n",
       "      <td>31.09.13.190-00000008</td>\n",
       "      <td>Стеллаж библиотечный</td>\n",
       "    </tr>\n",
       "    <tr>\n",
       "      <th>3</th>\n",
       "      <td>2651565</td>\n",
       "      <td>Троакар Ø 2,5 мм, № 545.090</td>\n",
       "      <td>32.50.13.190</td>\n",
       "      <td>Инструменты и приспособления, применяемые в ме...</td>\n",
       "      <td>32.50.13.190-00007317</td>\n",
       "      <td>Троакар с лезвием ортопедический, многоразовог...</td>\n",
       "    </tr>\n",
       "    <tr>\n",
       "      <th>4</th>\n",
       "      <td>2651579</td>\n",
       "      <td>Отвертка S=4 мм канюлированная, № 545.120</td>\n",
       "      <td>32.50.13.190</td>\n",
       "      <td>Инструменты и приспособления, применяемые в ме...</td>\n",
       "      <td>32.50.13.190-00007549</td>\n",
       "      <td>Отвертка хирургическая, многоразового использо...</td>\n",
       "    </tr>\n",
       "    <tr>\n",
       "      <th>...</th>\n",
       "      <td>...</td>\n",
       "      <td>...</td>\n",
       "      <td>...</td>\n",
       "      <td>...</td>\n",
       "      <td>...</td>\n",
       "      <td>...</td>\n",
       "    </tr>\n",
       "    <tr>\n",
       "      <th>303427</th>\n",
       "      <td>2409386</td>\n",
       "      <td>Оборудование подъемно-транспортное: склады мех...</td>\n",
       "      <td>71.12</td>\n",
       "      <td>Услуги в области инженерно-технического проект...</td>\n",
       "      <td>28.22.10.000-00000007</td>\n",
       "      <td>Транспортер</td>\n",
       "    </tr>\n",
       "    <tr>\n",
       "      <th>303428</th>\n",
       "      <td>2504901</td>\n",
       "      <td>Пошив одежды сцены для бюджетных организаций, ...</td>\n",
       "      <td>13.92.15.110</td>\n",
       "      <td>Занавеси (включая драпировочные)</td>\n",
       "      <td>13.92.15.110-00000001</td>\n",
       "      <td>Гардины</td>\n",
       "    </tr>\n",
       "    <tr>\n",
       "      <th>303429</th>\n",
       "      <td>2906484</td>\n",
       "      <td>Шкаф холодильный для пищевой промышленности мо...</td>\n",
       "      <td>28.25.13.111</td>\n",
       "      <td>Шкафы холодильные</td>\n",
       "      <td>28.25.13.111-00000009</td>\n",
       "      <td>Шкаф холодильный</td>\n",
       "    </tr>\n",
       "    <tr>\n",
       "      <th>303430</th>\n",
       "      <td>2906486</td>\n",
       "      <td>Шкаф холодильный для пищевой промышленности мо...</td>\n",
       "      <td>28.25.13.111</td>\n",
       "      <td>Шкафы холодильные</td>\n",
       "      <td>28.25.13.111-00000009</td>\n",
       "      <td>Шкаф холодильный</td>\n",
       "    </tr>\n",
       "    <tr>\n",
       "      <th>303431</th>\n",
       "      <td>2932869</td>\n",
       "      <td>Маты базальтовые прошивные энергетические МБПЭ...</td>\n",
       "      <td>23.99.19.110</td>\n",
       "      <td>Материалы и изделия минеральные тепло- и звуко...</td>\n",
       "      <td>23.99.19.110-00000009</td>\n",
       "      <td>Мат из минеральной ваты прошивной теплоизоляци...</td>\n",
       "    </tr>\n",
       "  </tbody>\n",
       "</table>\n",
       "<p>303432 rows × 6 columns</p>\n",
       "</div>"
      ],
      "text/plain": [
       "        product_id                                       product_name  \\\n",
       "0          2651463                  Проводник Ø 3,2×700 мм, № 500.607   \n",
       "1          2651475    Насадка на направитель \"А/R\" боковая, № 515.120   \n",
       "2          2577867                  Стеллаж библиотечный двусторонний   \n",
       "3          2651565                        Троакар Ø 2,5 мм, № 545.090   \n",
       "4          2651579          Отвертка S=4 мм канюлированная, № 545.120   \n",
       "...            ...                                                ...   \n",
       "303427     2409386  Оборудование подъемно-транспортное: склады мех...   \n",
       "303428     2504901  Пошив одежды сцены для бюджетных организаций, ...   \n",
       "303429     2906484  Шкаф холодильный для пищевой промышленности мо...   \n",
       "303430     2906486  Шкаф холодильный для пищевой промышленности мо...   \n",
       "303431     2932869  Маты базальтовые прошивные энергетические МБПЭ...   \n",
       "\n",
       "          okpd2_code                                         okpd2_name  \\\n",
       "0       32.50.13.190  Инструменты и приспособления, применяемые в ме...   \n",
       "1       32.50.13.190  Инструменты и приспособления, применяемые в ме...   \n",
       "2       31.09.13.190  Мебель деревянная прочая, не включенная в друг...   \n",
       "3       32.50.13.190  Инструменты и приспособления, применяемые в ме...   \n",
       "4       32.50.13.190  Инструменты и приспособления, применяемые в ме...   \n",
       "...              ...                                                ...   \n",
       "303427         71.12  Услуги в области инженерно-технического проект...   \n",
       "303428  13.92.15.110                   Занавеси (включая драпировочные)   \n",
       "303429  28.25.13.111                                  Шкафы холодильные   \n",
       "303430  28.25.13.111                                  Шкафы холодильные   \n",
       "303431  23.99.19.110  Материалы и изделия минеральные тепло- и звуко...   \n",
       "\n",
       "                    ktru_code  \\\n",
       "0       32.50.13.190-00006975   \n",
       "1       32.50.13.190-00007285   \n",
       "2       31.09.13.190-00000008   \n",
       "3       32.50.13.190-00007317   \n",
       "4       32.50.13.190-00007549   \n",
       "...                       ...   \n",
       "303427  28.22.10.000-00000007   \n",
       "303428  13.92.15.110-00000001   \n",
       "303429  28.25.13.111-00000009   \n",
       "303430  28.25.13.111-00000009   \n",
       "303431  23.99.19.110-00000009   \n",
       "\n",
       "                                                ktru_name  \n",
       "0                               Проводник костного гвоздя  \n",
       "1       Блок направляющий для установки ортопедическог...  \n",
       "2                                    Стеллаж библиотечный  \n",
       "3       Троакар с лезвием ортопедический, многоразовог...  \n",
       "4       Отвертка хирургическая, многоразового использо...  \n",
       "...                                                   ...  \n",
       "303427                                        Транспортер  \n",
       "303428                                            Гардины  \n",
       "303429                                   Шкаф холодильный  \n",
       "303430                                   Шкаф холодильный  \n",
       "303431  Мат из минеральной ваты прошивной теплоизоляци...  \n",
       "\n",
       "[303432 rows x 6 columns]"
      ]
     },
     "execution_count": 45,
     "metadata": {},
     "output_type": "execute_result"
    }
   ],
   "source": [
    "products_with_ktru[products_with_ktru['product_id'].isin(products['id'])]"
   ]
  },
  {
   "cell_type": "code",
   "execution_count": 43,
   "metadata": {},
   "outputs": [
    {
     "data": {
      "text/html": [
       "<div>\n",
       "<style scoped>\n",
       "    .dataframe tbody tr th:only-of-type {\n",
       "        vertical-align: middle;\n",
       "    }\n",
       "\n",
       "    .dataframe tbody tr th {\n",
       "        vertical-align: top;\n",
       "    }\n",
       "\n",
       "    .dataframe thead th {\n",
       "        text-align: right;\n",
       "    }\n",
       "</style>\n",
       "<table border=\"1\" class=\"dataframe\">\n",
       "  <thead>\n",
       "    <tr style=\"text-align: right;\">\n",
       "      <th></th>\n",
       "      <th>Unnamed: 0</th>\n",
       "      <th>id</th>\n",
       "      <th>okdp2</th>\n",
       "      <th>okpd2_code</th>\n",
       "      <th>okpd2_name</th>\n",
       "      <th>okei_code</th>\n",
       "      <th>ktru</th>\n",
       "      <th>ktru_code</th>\n",
       "      <th>ktru_name</th>\n",
       "      <th>product_name</th>\n",
       "      <th>product_descr</th>\n",
       "    </tr>\n",
       "  </thead>\n",
       "  <tbody>\n",
       "    <tr>\n",
       "      <th>1044573</th>\n",
       "      <td>1044573</td>\n",
       "      <td>2651463</td>\n",
       "      <td>13556.0</td>\n",
       "      <td>32.50.13.190</td>\n",
       "      <td>Инструменты и приспособления, применяемые в ме...</td>\n",
       "      <td>796.0</td>\n",
       "      <td>45600.0</td>\n",
       "      <td>32.50.13.190-00006975</td>\n",
       "      <td>Проводник костного гвоздя</td>\n",
       "      <td>Проводник Ø 3,2×700 мм, № 500.607</td>\n",
       "      <td>Проводник Ø 3,2×700 мм, № 500.607, Инструмента...</td>\n",
       "    </tr>\n",
       "  </tbody>\n",
       "</table>\n",
       "</div>"
      ],
      "text/plain": [
       "         Unnamed: 0       id    okdp2    okpd2_code  \\\n",
       "1044573     1044573  2651463  13556.0  32.50.13.190   \n",
       "\n",
       "                                                okpd2_name  okei_code  \\\n",
       "1044573  Инструменты и приспособления, применяемые в ме...      796.0   \n",
       "\n",
       "            ktru              ktru_code                  ktru_name  \\\n",
       "1044573  45600.0  32.50.13.190-00006975  Проводник костного гвоздя   \n",
       "\n",
       "                              product_name  \\\n",
       "1044573  Проводник Ø 3,2×700 мм, № 500.607   \n",
       "\n",
       "                                             product_descr  \n",
       "1044573  Проводник Ø 3,2×700 мм, № 500.607, Инструмента...  "
      ]
     },
     "execution_count": 43,
     "metadata": {},
     "output_type": "execute_result"
    }
   ],
   "source": [
    "products[products['id'] == 2651463]"
   ]
  },
  {
   "cell_type": "code",
   "execution_count": 46,
   "metadata": {},
   "outputs": [
    {
     "data": {
      "text/plain": [
       "311729"
      ]
     },
     "execution_count": 46,
     "metadata": {},
     "output_type": "execute_result"
    }
   ],
   "source": [
    "products['ktru_code'].notnull().sum()"
   ]
  },
  {
   "cell_type": "markdown",
   "metadata": {},
   "source": [
    "# Forming Dataset"
   ]
  },
  {
   "cell_type": "code",
   "execution_count": 3,
   "metadata": {},
   "outputs": [
    {
     "name": "stderr",
     "output_type": "stream",
     "text": [
      "/tmp/ipykernel_678437/4028392686.py:1: DtypeWarning: Columns (7,8) have mixed types. Specify dtype option on import or set low_memory=False.\n",
      "  products = pd.read_csv('products.csv')\n"
     ]
    }
   ],
   "source": [
    "products = pd.read_csv('products.csv')"
   ]
  },
  {
   "cell_type": "code",
   "execution_count": 12,
   "metadata": {},
   "outputs": [
    {
     "data": {
      "text/html": [
       "<div>\n",
       "<style scoped>\n",
       "    .dataframe tbody tr th:only-of-type {\n",
       "        vertical-align: middle;\n",
       "    }\n",
       "\n",
       "    .dataframe tbody tr th {\n",
       "        vertical-align: top;\n",
       "    }\n",
       "\n",
       "    .dataframe thead th {\n",
       "        text-align: right;\n",
       "    }\n",
       "</style>\n",
       "<table border=\"1\" class=\"dataframe\">\n",
       "  <thead>\n",
       "    <tr style=\"text-align: right;\">\n",
       "      <th></th>\n",
       "      <th>id</th>\n",
       "      <th>product_name</th>\n",
       "      <th>product_descr</th>\n",
       "      <th>ktru_code</th>\n",
       "    </tr>\n",
       "  </thead>\n",
       "  <tbody>\n",
       "    <tr>\n",
       "      <th>65</th>\n",
       "      <td>206</td>\n",
       "      <td>Бумага для офисной техники</td>\n",
       "      <td>Бумага для офисной техники, Предназначается дл...</td>\n",
       "      <td>17.12.14.129-00000040</td>\n",
       "    </tr>\n",
       "    <tr>\n",
       "      <th>72</th>\n",
       "      <td>220</td>\n",
       "      <td>Целлюлоза сульфатная беленая из древесины лист...</td>\n",
       "      <td>Целлюлоза сульфатная беленая из древесины лист...</td>\n",
       "      <td>17.11.10.000-00000001</td>\n",
       "    </tr>\n",
       "    <tr>\n",
       "      <th>73</th>\n",
       "      <td>222</td>\n",
       "      <td>Целлюлоза сульфатная беленая из древесины хвой...</td>\n",
       "      <td>Целлюлоза сульфатная беленая из древесины хвой...</td>\n",
       "      <td>17.11.10.000-00000001</td>\n",
       "    </tr>\n",
       "  </tbody>\n",
       "</table>\n",
       "</div>"
      ],
      "text/plain": [
       "     id                                       product_name  \\\n",
       "65  206                         Бумага для офисной техники   \n",
       "72  220  Целлюлоза сульфатная беленая из древесины лист...   \n",
       "73  222  Целлюлоза сульфатная беленая из древесины хвой...   \n",
       "\n",
       "                                        product_descr              ktru_code  \n",
       "65  Бумага для офисной техники, Предназначается дл...  17.12.14.129-00000040  \n",
       "72  Целлюлоза сульфатная беленая из древесины лист...  17.11.10.000-00000001  \n",
       "73  Целлюлоза сульфатная беленая из древесины хвой...  17.11.10.000-00000001  "
      ]
     },
     "execution_count": 12,
     "metadata": {},
     "output_type": "execute_result"
    }
   ],
   "source": [
    "dataset = products[products['ktru_code'].notnull()]\n",
    "dataset = dataset[['id', 'product_name', 'product_descr','ktru_code']]\n",
    "dataset.head(3)"
   ]
  },
  {
   "cell_type": "code",
   "execution_count": 13,
   "metadata": {},
   "outputs": [
    {
     "data": {
      "text/html": [
       "<div>\n",
       "<style scoped>\n",
       "    .dataframe tbody tr th:only-of-type {\n",
       "        vertical-align: middle;\n",
       "    }\n",
       "\n",
       "    .dataframe tbody tr th {\n",
       "        vertical-align: top;\n",
       "    }\n",
       "\n",
       "    .dataframe thead th {\n",
       "        text-align: right;\n",
       "    }\n",
       "</style>\n",
       "<table border=\"1\" class=\"dataframe\">\n",
       "  <thead>\n",
       "    <tr style=\"text-align: right;\">\n",
       "      <th></th>\n",
       "      <th>id</th>\n",
       "      <th>product_name</th>\n",
       "      <th>product_descr</th>\n",
       "      <th>ktru_code</th>\n",
       "      <th>ktru_2</th>\n",
       "      <th>ktru_5</th>\n",
       "      <th>ktru_8</th>\n",
       "      <th>ktru_12</th>\n",
       "    </tr>\n",
       "  </thead>\n",
       "  <tbody>\n",
       "    <tr>\n",
       "      <th>65</th>\n",
       "      <td>206</td>\n",
       "      <td>Бумага для офисной техники</td>\n",
       "      <td>Бумага для офисной техники, Предназначается дл...</td>\n",
       "      <td>17.12.14.129-00000040</td>\n",
       "      <td>17</td>\n",
       "      <td>17.12</td>\n",
       "      <td>17.12.14</td>\n",
       "      <td>17.12.14.129</td>\n",
       "    </tr>\n",
       "    <tr>\n",
       "      <th>72</th>\n",
       "      <td>220</td>\n",
       "      <td>Целлюлоза сульфатная беленая из древесины лист...</td>\n",
       "      <td>Целлюлоза сульфатная беленая из древесины лист...</td>\n",
       "      <td>17.11.10.000-00000001</td>\n",
       "      <td>17</td>\n",
       "      <td>17.11</td>\n",
       "      <td>17.11.10</td>\n",
       "      <td>17.11.10.000</td>\n",
       "    </tr>\n",
       "    <tr>\n",
       "      <th>73</th>\n",
       "      <td>222</td>\n",
       "      <td>Целлюлоза сульфатная беленая из древесины хвой...</td>\n",
       "      <td>Целлюлоза сульфатная беленая из древесины хвой...</td>\n",
       "      <td>17.11.10.000-00000001</td>\n",
       "      <td>17</td>\n",
       "      <td>17.11</td>\n",
       "      <td>17.11.10</td>\n",
       "      <td>17.11.10.000</td>\n",
       "    </tr>\n",
       "  </tbody>\n",
       "</table>\n",
       "</div>"
      ],
      "text/plain": [
       "     id                                       product_name  \\\n",
       "65  206                         Бумага для офисной техники   \n",
       "72  220  Целлюлоза сульфатная беленая из древесины лист...   \n",
       "73  222  Целлюлоза сульфатная беленая из древесины хвой...   \n",
       "\n",
       "                                        product_descr              ktru_code  \\\n",
       "65  Бумага для офисной техники, Предназначается дл...  17.12.14.129-00000040   \n",
       "72  Целлюлоза сульфатная беленая из древесины лист...  17.11.10.000-00000001   \n",
       "73  Целлюлоза сульфатная беленая из древесины хвой...  17.11.10.000-00000001   \n",
       "\n",
       "   ktru_2 ktru_5    ktru_8       ktru_12  \n",
       "65     17  17.12  17.12.14  17.12.14.129  \n",
       "72     17  17.11  17.11.10  17.11.10.000  \n",
       "73     17  17.11  17.11.10  17.11.10.000  "
      ]
     },
     "execution_count": 13,
     "metadata": {},
     "output_type": "execute_result"
    }
   ],
   "source": [
    "dataset = add_partial_ktru_codes(dataset)\n",
    "dataset.head(3)"
   ]
  },
  {
   "cell_type": "code",
   "execution_count": 24,
   "metadata": {},
   "outputs": [
    {
     "data": {
      "text/plain": [
       "51430"
      ]
     },
     "execution_count": 24,
     "metadata": {},
     "output_type": "execute_result"
    }
   ],
   "source": [
    "dataset['ktru_2'].value_counts().sum() - 260299"
   ]
  },
  {
   "cell_type": "code",
   "execution_count": 6,
   "metadata": {},
   "outputs": [
    {
     "data": {
      "text/plain": [
       "27    260299\n",
       "32      9423\n",
       "28      7376\n",
       "26      5643\n",
       "29      4637\n",
       "25      4050\n",
       "31      3853\n",
       "24      2935\n",
       "20      2655\n",
       "23      2517\n",
       "14      1929\n",
       "22      1570\n",
       "21      1185\n",
       "17      1092\n",
       "13       843\n",
       "15       431\n",
       "30       331\n",
       "16       319\n",
       "10       298\n",
       "08        94\n",
       "01        72\n",
       "72        37\n",
       "02        22\n",
       "33        20\n",
       "42        19\n",
       "07        14\n",
       "19        11\n",
       "11        10\n",
       "58         8\n",
       "62         7\n",
       "71         7\n",
       "45         5\n",
       "82         3\n",
       "05         3\n",
       "96         2\n",
       "68         1\n",
       "06         1\n",
       "38         1\n",
       "85         1\n",
       "18         1\n",
       "78         1\n",
       "03         1\n",
       "84         1\n",
       "74         1\n",
       "Name: ktru_2, dtype: int64"
      ]
     },
     "execution_count": 6,
     "metadata": {},
     "output_type": "execute_result"
    }
   ],
   "source": [
    "dataset['ktru_2'].value_counts()"
   ]
  },
  {
   "cell_type": "markdown",
   "metadata": {},
   "source": [
    "## What about cables?"
   ]
  },
  {
   "cell_type": "code",
   "execution_count": 9,
   "metadata": {},
   "outputs": [
    {
     "data": {
      "text/plain": [
       "27.32    251096\n",
       "27.90      5592\n",
       "27.11      1831\n",
       "27.40       625\n",
       "27.12       474\n",
       "27.33       331\n",
       "27.20       277\n",
       "27.51        55\n",
       "27.52        15\n",
       "27.31         3\n",
       "Name: ktru_5, dtype: int64"
      ]
     },
     "execution_count": 9,
     "metadata": {},
     "output_type": "execute_result"
    }
   ],
   "source": [
    "dataset[dataset['ktru_2'] == '27']['ktru_5'].value_counts()"
   ]
  },
  {
   "cell_type": "code",
   "execution_count": 10,
   "metadata": {},
   "outputs": [
    {
     "data": {
      "text/plain": [
       "27.32.10    250910\n",
       "27.32.14       129\n",
       "27.32.13        56\n",
       "27.32.90         1\n",
       "Name: ktru_8, dtype: int64"
      ]
     },
     "execution_count": 10,
     "metadata": {},
     "output_type": "execute_result"
    }
   ],
   "source": [
    "dataset[dataset['ktru_5'] == '27.32']['ktru_8'].value_counts()"
   ]
  },
  {
   "cell_type": "code",
   "execution_count": 21,
   "metadata": {},
   "outputs": [
    {
     "data": {
      "text/plain": [
       "27.32.10.000    250910\n",
       "Name: ktru_12, dtype: int64"
      ]
     },
     "execution_count": 21,
     "metadata": {},
     "output_type": "execute_result"
    }
   ],
   "source": [
    "dataset[dataset['ktru_8'] == '27.32.10']['ktru_12'].value_counts()"
   ]
  },
  {
   "cell_type": "code",
   "execution_count": 22,
   "metadata": {},
   "outputs": [
    {
     "data": {
      "text/plain": [
       "27.32.10.000-00000001    250802\n",
       "27.32.10.000-00000002       106\n",
       "27.32.10.000-00000003         2\n",
       "Name: ktru_code, dtype: int64"
      ]
     },
     "execution_count": 22,
     "metadata": {},
     "output_type": "execute_result"
    }
   ],
   "source": [
    "dataset[dataset['ktru_12'] == '27.32.10.000']['ktru_code'].value_counts()"
   ]
  },
  {
   "cell_type": "markdown",
   "metadata": {},
   "source": [
    "## Rebalancing\n",
    "\n",
    "I decided to keep only **6K** cables with ktru `27.32.10.000-00000001` rows."
   ]
  },
  {
   "cell_type": "code",
   "execution_count": 25,
   "metadata": {},
   "outputs": [
    {
     "data": {
      "text/html": [
       "<div>\n",
       "<style scoped>\n",
       "    .dataframe tbody tr th:only-of-type {\n",
       "        vertical-align: middle;\n",
       "    }\n",
       "\n",
       "    .dataframe tbody tr th {\n",
       "        vertical-align: top;\n",
       "    }\n",
       "\n",
       "    .dataframe thead th {\n",
       "        text-align: right;\n",
       "    }\n",
       "</style>\n",
       "<table border=\"1\" class=\"dataframe\">\n",
       "  <thead>\n",
       "    <tr style=\"text-align: right;\">\n",
       "      <th></th>\n",
       "      <th>id</th>\n",
       "      <th>product_name</th>\n",
       "      <th>product_descr</th>\n",
       "      <th>ktru_code</th>\n",
       "      <th>ktru_2</th>\n",
       "      <th>ktru_5</th>\n",
       "      <th>ktru_8</th>\n",
       "      <th>ktru_12</th>\n",
       "    </tr>\n",
       "  </thead>\n",
       "  <tbody>\n",
       "    <tr>\n",
       "      <th>408</th>\n",
       "      <td>1096</td>\n",
       "      <td>Монтажные кабели</td>\n",
       "      <td>Монтажные кабели, Кабели монтажные предназначе...</td>\n",
       "      <td>27.32.10.000-00000001</td>\n",
       "      <td>27</td>\n",
       "      <td>27.32</td>\n",
       "      <td>27.32.10</td>\n",
       "      <td>27.32.10.000</td>\n",
       "    </tr>\n",
       "    <tr>\n",
       "      <th>410</th>\n",
       "      <td>1100</td>\n",
       "      <td>Кабели контрольные</td>\n",
       "      <td>Кабели контрольные, Контрольные кабели с медны...</td>\n",
       "      <td>27.32.10.000-00000001</td>\n",
       "      <td>27</td>\n",
       "      <td>27.32</td>\n",
       "      <td>27.32.10</td>\n",
       "      <td>27.32.10.000</td>\n",
       "    </tr>\n",
       "    <tr>\n",
       "      <th>411</th>\n",
       "      <td>1102</td>\n",
       "      <td>Бумажно-пропитанные кабели (БПИ) на напряжение...</td>\n",
       "      <td>Бумажно-пропитанные кабели (БПИ) на напряжение...</td>\n",
       "      <td>27.32.10.000-00000001</td>\n",
       "      <td>27</td>\n",
       "      <td>27.32</td>\n",
       "      <td>27.32.10</td>\n",
       "      <td>27.32.10.000</td>\n",
       "    </tr>\n",
       "    <tr>\n",
       "      <th>412</th>\n",
       "      <td>1104</td>\n",
       "      <td>Кабели в пластмассовой изоляции (ПВХ) на напря...</td>\n",
       "      <td>Кабели в пластмассовой изоляции (ПВХ) на напря...</td>\n",
       "      <td>27.32.10.000-00000001</td>\n",
       "      <td>27</td>\n",
       "      <td>27.32</td>\n",
       "      <td>27.32.10</td>\n",
       "      <td>27.32.10.000</td>\n",
       "    </tr>\n",
       "    <tr>\n",
       "      <th>413</th>\n",
       "      <td>1106</td>\n",
       "      <td>Кабели СПЭ на напряжение до 1 кВ (до 1 и 1 кВ)</td>\n",
       "      <td>Кабели СПЭ на напряжение до 1 кВ (до 1 и 1 кВ)...</td>\n",
       "      <td>27.32.10.000-00000001</td>\n",
       "      <td>27</td>\n",
       "      <td>27.32</td>\n",
       "      <td>27.32.10</td>\n",
       "      <td>27.32.10.000</td>\n",
       "    </tr>\n",
       "    <tr>\n",
       "      <th>...</th>\n",
       "      <td>...</td>\n",
       "      <td>...</td>\n",
       "      <td>...</td>\n",
       "      <td>...</td>\n",
       "      <td>...</td>\n",
       "      <td>...</td>\n",
       "      <td>...</td>\n",
       "      <td>...</td>\n",
       "    </tr>\n",
       "    <tr>\n",
       "      <th>806223</th>\n",
       "      <td>1841375</td>\n",
       "      <td>Провод марки СИП-2 3х240+1х95-06/1 кВ</td>\n",
       "      <td>Провод марки СИП-2 3х240+1х95-06/1 кВ, Провод ...</td>\n",
       "      <td>27.32.10.000-00000001</td>\n",
       "      <td>27</td>\n",
       "      <td>27.32</td>\n",
       "      <td>27.32.10</td>\n",
       "      <td>27.32.10.000</td>\n",
       "    </tr>\n",
       "    <tr>\n",
       "      <th>806224</th>\n",
       "      <td>1841377</td>\n",
       "      <td>Провод марки СИП-4 2х16-06/1 кВ</td>\n",
       "      <td>Провод марки СИП-4 2х16-06/1 кВ, Провод самоне...</td>\n",
       "      <td>27.32.10.000-00000001</td>\n",
       "      <td>27</td>\n",
       "      <td>27.32</td>\n",
       "      <td>27.32.10</td>\n",
       "      <td>27.32.10.000</td>\n",
       "    </tr>\n",
       "    <tr>\n",
       "      <th>806225</th>\n",
       "      <td>1841379</td>\n",
       "      <td>Провод марки СИП-4 4х16-06/1 кВ</td>\n",
       "      <td>Провод марки СИП-4 4х16-06/1 кВ, Провод самоне...</td>\n",
       "      <td>27.32.10.000-00000001</td>\n",
       "      <td>27</td>\n",
       "      <td>27.32</td>\n",
       "      <td>27.32.10</td>\n",
       "      <td>27.32.10.000</td>\n",
       "    </tr>\n",
       "    <tr>\n",
       "      <th>806226</th>\n",
       "      <td>1841381</td>\n",
       "      <td>Провод марки СИП-4 2х25-06/1 кВ</td>\n",
       "      <td>Провод марки СИП-4 2х25-06/1 кВ, Провод самоне...</td>\n",
       "      <td>27.32.10.000-00000001</td>\n",
       "      <td>27</td>\n",
       "      <td>27.32</td>\n",
       "      <td>27.32.10</td>\n",
       "      <td>27.32.10.000</td>\n",
       "    </tr>\n",
       "    <tr>\n",
       "      <th>806227</th>\n",
       "      <td>1841383</td>\n",
       "      <td>Провод марки СИП-4 4х25-06/1 кВ</td>\n",
       "      <td>Провод марки СИП-4 4х25-06/1 кВ, Провод самоне...</td>\n",
       "      <td>27.32.10.000-00000001</td>\n",
       "      <td>27</td>\n",
       "      <td>27.32</td>\n",
       "      <td>27.32.10</td>\n",
       "      <td>27.32.10.000</td>\n",
       "    </tr>\n",
       "  </tbody>\n",
       "</table>\n",
       "<p>250802 rows × 8 columns</p>\n",
       "</div>"
      ],
      "text/plain": [
       "             id                                       product_name  \\\n",
       "408        1096                                   Монтажные кабели   \n",
       "410        1100                                 Кабели контрольные   \n",
       "411        1102  Бумажно-пропитанные кабели (БПИ) на напряжение...   \n",
       "412        1104  Кабели в пластмассовой изоляции (ПВХ) на напря...   \n",
       "413        1106     Кабели СПЭ на напряжение до 1 кВ (до 1 и 1 кВ)   \n",
       "...         ...                                                ...   \n",
       "806223  1841375              Провод марки СИП-2 3х240+1х95-06/1 кВ   \n",
       "806224  1841377                    Провод марки СИП-4 2х16-06/1 кВ   \n",
       "806225  1841379                    Провод марки СИП-4 4х16-06/1 кВ   \n",
       "806226  1841381                    Провод марки СИП-4 2х25-06/1 кВ   \n",
       "806227  1841383                    Провод марки СИП-4 4х25-06/1 кВ   \n",
       "\n",
       "                                            product_descr  \\\n",
       "408     Монтажные кабели, Кабели монтажные предназначе...   \n",
       "410     Кабели контрольные, Контрольные кабели с медны...   \n",
       "411     Бумажно-пропитанные кабели (БПИ) на напряжение...   \n",
       "412     Кабели в пластмассовой изоляции (ПВХ) на напря...   \n",
       "413     Кабели СПЭ на напряжение до 1 кВ (до 1 и 1 кВ)...   \n",
       "...                                                   ...   \n",
       "806223  Провод марки СИП-2 3х240+1х95-06/1 кВ, Провод ...   \n",
       "806224  Провод марки СИП-4 2х16-06/1 кВ, Провод самоне...   \n",
       "806225  Провод марки СИП-4 4х16-06/1 кВ, Провод самоне...   \n",
       "806226  Провод марки СИП-4 2х25-06/1 кВ, Провод самоне...   \n",
       "806227  Провод марки СИП-4 4х25-06/1 кВ, Провод самоне...   \n",
       "\n",
       "                    ktru_code ktru_2 ktru_5    ktru_8       ktru_12  \n",
       "408     27.32.10.000-00000001     27  27.32  27.32.10  27.32.10.000  \n",
       "410     27.32.10.000-00000001     27  27.32  27.32.10  27.32.10.000  \n",
       "411     27.32.10.000-00000001     27  27.32  27.32.10  27.32.10.000  \n",
       "412     27.32.10.000-00000001     27  27.32  27.32.10  27.32.10.000  \n",
       "413     27.32.10.000-00000001     27  27.32  27.32.10  27.32.10.000  \n",
       "...                       ...    ...    ...       ...           ...  \n",
       "806223  27.32.10.000-00000001     27  27.32  27.32.10  27.32.10.000  \n",
       "806224  27.32.10.000-00000001     27  27.32  27.32.10  27.32.10.000  \n",
       "806225  27.32.10.000-00000001     27  27.32  27.32.10  27.32.10.000  \n",
       "806226  27.32.10.000-00000001     27  27.32  27.32.10  27.32.10.000  \n",
       "806227  27.32.10.000-00000001     27  27.32  27.32.10  27.32.10.000  \n",
       "\n",
       "[250802 rows x 8 columns]"
      ]
     },
     "execution_count": 25,
     "metadata": {},
     "output_type": "execute_result"
    }
   ],
   "source": [
    "dataset[dataset['ktru_code'] == '27.32.10.000-00000001']"
   ]
  },
  {
   "cell_type": "code",
   "execution_count": 27,
   "metadata": {},
   "outputs": [
    {
     "data": {
      "text/html": [
       "<div>\n",
       "<style scoped>\n",
       "    .dataframe tbody tr th:only-of-type {\n",
       "        vertical-align: middle;\n",
       "    }\n",
       "\n",
       "    .dataframe tbody tr th {\n",
       "        vertical-align: top;\n",
       "    }\n",
       "\n",
       "    .dataframe thead th {\n",
       "        text-align: right;\n",
       "    }\n",
       "</style>\n",
       "<table border=\"1\" class=\"dataframe\">\n",
       "  <thead>\n",
       "    <tr style=\"text-align: right;\">\n",
       "      <th></th>\n",
       "      <th>id</th>\n",
       "      <th>product_name</th>\n",
       "      <th>product_descr</th>\n",
       "      <th>ktru_code</th>\n",
       "      <th>ktru_2</th>\n",
       "      <th>ktru_5</th>\n",
       "      <th>ktru_8</th>\n",
       "      <th>ktru_12</th>\n",
       "    </tr>\n",
       "  </thead>\n",
       "  <tbody>\n",
       "    <tr>\n",
       "      <th>773080</th>\n",
       "      <td>1732013</td>\n",
       "      <td>LAN-Кабель / Кабель высокочастотный парной скр...</td>\n",
       "      <td>LAN-Кабель / Кабель высокочастотный парной скр...</td>\n",
       "      <td>27.32.10.000-00000001</td>\n",
       "      <td>27</td>\n",
       "      <td>27.32</td>\n",
       "      <td>27.32.10</td>\n",
       "      <td>27.32.10.000</td>\n",
       "    </tr>\n",
       "    <tr>\n",
       "      <th>773081</th>\n",
       "      <td>1732015</td>\n",
       "      <td>LAN-Кабель / Кабель высокочастотный парной скр...</td>\n",
       "      <td>LAN-Кабель / Кабель высокочастотный парной скр...</td>\n",
       "      <td>27.32.10.000-00000001</td>\n",
       "      <td>27</td>\n",
       "      <td>27.32</td>\n",
       "      <td>27.32.10</td>\n",
       "      <td>27.32.10.000</td>\n",
       "    </tr>\n",
       "    <tr>\n",
       "      <th>773082</th>\n",
       "      <td>1732017</td>\n",
       "      <td>LAN-Кабель / Кабель высокочастотный парной скр...</td>\n",
       "      <td>LAN-Кабель / Кабель высокочастотный парной скр...</td>\n",
       "      <td>27.32.10.000-00000001</td>\n",
       "      <td>27</td>\n",
       "      <td>27.32</td>\n",
       "      <td>27.32.10</td>\n",
       "      <td>27.32.10.000</td>\n",
       "    </tr>\n",
       "    <tr>\n",
       "      <th>773083</th>\n",
       "      <td>1732019</td>\n",
       "      <td>LAN-Кабель / Кабель высокочастотный парной скр...</td>\n",
       "      <td>LAN-Кабель / Кабель высокочастотный парной скр...</td>\n",
       "      <td>27.32.10.000-00000001</td>\n",
       "      <td>27</td>\n",
       "      <td>27.32</td>\n",
       "      <td>27.32.10</td>\n",
       "      <td>27.32.10.000</td>\n",
       "    </tr>\n",
       "    <tr>\n",
       "      <th>415</th>\n",
       "      <td>1110</td>\n",
       "      <td>Бумажно-пропитанные кабели (БПИ) на напряжение...</td>\n",
       "      <td>Бумажно-пропитанные кабели (БПИ) на напряжение...</td>\n",
       "      <td>27.32.10.000-00000001</td>\n",
       "      <td>27</td>\n",
       "      <td>27.32</td>\n",
       "      <td>27.32.10</td>\n",
       "      <td>27.32.10.000</td>\n",
       "    </tr>\n",
       "    <tr>\n",
       "      <th>...</th>\n",
       "      <td>...</td>\n",
       "      <td>...</td>\n",
       "      <td>...</td>\n",
       "      <td>...</td>\n",
       "      <td>...</td>\n",
       "      <td>...</td>\n",
       "      <td>...</td>\n",
       "      <td>...</td>\n",
       "    </tr>\n",
       "    <tr>\n",
       "      <th>806226</th>\n",
       "      <td>1841381</td>\n",
       "      <td>Провод марки СИП-4 2х25-06/1 кВ</td>\n",
       "      <td>Провод марки СИП-4 2х25-06/1 кВ, Провод самоне...</td>\n",
       "      <td>27.32.10.000-00000001</td>\n",
       "      <td>27</td>\n",
       "      <td>27.32</td>\n",
       "      <td>27.32.10</td>\n",
       "      <td>27.32.10.000</td>\n",
       "    </tr>\n",
       "    <tr>\n",
       "      <th>806225</th>\n",
       "      <td>1841379</td>\n",
       "      <td>Провод марки СИП-4 4х16-06/1 кВ</td>\n",
       "      <td>Провод марки СИП-4 4х16-06/1 кВ, Провод самоне...</td>\n",
       "      <td>27.32.10.000-00000001</td>\n",
       "      <td>27</td>\n",
       "      <td>27.32</td>\n",
       "      <td>27.32.10</td>\n",
       "      <td>27.32.10.000</td>\n",
       "    </tr>\n",
       "    <tr>\n",
       "      <th>806227</th>\n",
       "      <td>1841383</td>\n",
       "      <td>Провод марки СИП-4 4х25-06/1 кВ</td>\n",
       "      <td>Провод марки СИП-4 4х25-06/1 кВ, Провод самоне...</td>\n",
       "      <td>27.32.10.000-00000001</td>\n",
       "      <td>27</td>\n",
       "      <td>27.32</td>\n",
       "      <td>27.32.10</td>\n",
       "      <td>27.32.10.000</td>\n",
       "    </tr>\n",
       "    <tr>\n",
       "      <th>418</th>\n",
       "      <td>1116</td>\n",
       "      <td>Провода самонесущие (СИП) на напряжение более ...</td>\n",
       "      <td>Провода самонесущие (СИП) на напряжение более ...</td>\n",
       "      <td>27.32.10.000-00000001</td>\n",
       "      <td>27</td>\n",
       "      <td>27.32</td>\n",
       "      <td>27.32.10</td>\n",
       "      <td>27.32.10.000</td>\n",
       "    </tr>\n",
       "    <tr>\n",
       "      <th>414</th>\n",
       "      <td>1108</td>\n",
       "      <td>Провода самонесущие (СИП) на напряжение до 1 к...</td>\n",
       "      <td>Провода самонесущие (СИП) на напряжение до 1 к...</td>\n",
       "      <td>27.32.10.000-00000001</td>\n",
       "      <td>27</td>\n",
       "      <td>27.32</td>\n",
       "      <td>27.32.10</td>\n",
       "      <td>27.32.10.000</td>\n",
       "    </tr>\n",
       "  </tbody>\n",
       "</table>\n",
       "<p>250802 rows × 8 columns</p>\n",
       "</div>"
      ],
      "text/plain": [
       "             id                                       product_name  \\\n",
       "773080  1732013  LAN-Кабель / Кабель высокочастотный парной скр...   \n",
       "773081  1732015  LAN-Кабель / Кабель высокочастотный парной скр...   \n",
       "773082  1732017  LAN-Кабель / Кабель высокочастотный парной скр...   \n",
       "773083  1732019  LAN-Кабель / Кабель высокочастотный парной скр...   \n",
       "415        1110  Бумажно-пропитанные кабели (БПИ) на напряжение...   \n",
       "...         ...                                                ...   \n",
       "806226  1841381                    Провод марки СИП-4 2х25-06/1 кВ   \n",
       "806225  1841379                    Провод марки СИП-4 4х16-06/1 кВ   \n",
       "806227  1841383                    Провод марки СИП-4 4х25-06/1 кВ   \n",
       "418        1116  Провода самонесущие (СИП) на напряжение более ...   \n",
       "414        1108  Провода самонесущие (СИП) на напряжение до 1 к...   \n",
       "\n",
       "                                            product_descr  \\\n",
       "773080  LAN-Кабель / Кабель высокочастотный парной скр...   \n",
       "773081  LAN-Кабель / Кабель высокочастотный парной скр...   \n",
       "773082  LAN-Кабель / Кабель высокочастотный парной скр...   \n",
       "773083  LAN-Кабель / Кабель высокочастотный парной скр...   \n",
       "415     Бумажно-пропитанные кабели (БПИ) на напряжение...   \n",
       "...                                                   ...   \n",
       "806226  Провод марки СИП-4 2х25-06/1 кВ, Провод самоне...   \n",
       "806225  Провод марки СИП-4 4х16-06/1 кВ, Провод самоне...   \n",
       "806227  Провод марки СИП-4 4х25-06/1 кВ, Провод самоне...   \n",
       "418     Провода самонесущие (СИП) на напряжение более ...   \n",
       "414     Провода самонесущие (СИП) на напряжение до 1 к...   \n",
       "\n",
       "                    ktru_code ktru_2 ktru_5    ktru_8       ktru_12  \n",
       "773080  27.32.10.000-00000001     27  27.32  27.32.10  27.32.10.000  \n",
       "773081  27.32.10.000-00000001     27  27.32  27.32.10  27.32.10.000  \n",
       "773082  27.32.10.000-00000001     27  27.32  27.32.10  27.32.10.000  \n",
       "773083  27.32.10.000-00000001     27  27.32  27.32.10  27.32.10.000  \n",
       "415     27.32.10.000-00000001     27  27.32  27.32.10  27.32.10.000  \n",
       "...                       ...    ...    ...       ...           ...  \n",
       "806226  27.32.10.000-00000001     27  27.32  27.32.10  27.32.10.000  \n",
       "806225  27.32.10.000-00000001     27  27.32  27.32.10  27.32.10.000  \n",
       "806227  27.32.10.000-00000001     27  27.32  27.32.10  27.32.10.000  \n",
       "418     27.32.10.000-00000001     27  27.32  27.32.10  27.32.10.000  \n",
       "414     27.32.10.000-00000001     27  27.32  27.32.10  27.32.10.000  \n",
       "\n",
       "[250802 rows x 8 columns]"
      ]
     },
     "execution_count": 27,
     "metadata": {},
     "output_type": "execute_result"
    }
   ],
   "source": [
    "dataset[dataset['ktru_code'] == '27.32.10.000-00000001'].sort_values('product_descr')"
   ]
  },
  {
   "cell_type": "code",
   "execution_count": 28,
   "metadata": {},
   "outputs": [
    {
     "data": {
      "text/plain": [
       "41"
      ]
     },
     "execution_count": 28,
     "metadata": {},
     "output_type": "execute_result"
    }
   ],
   "source": [
    "250_802 // 6_000"
   ]
  },
  {
   "cell_type": "code",
   "execution_count": 3,
   "metadata": {},
   "outputs": [
    {
     "data": {
      "text/html": [
       "<div>\n",
       "<style scoped>\n",
       "    .dataframe tbody tr th:only-of-type {\n",
       "        vertical-align: middle;\n",
       "    }\n",
       "\n",
       "    .dataframe tbody tr th {\n",
       "        vertical-align: top;\n",
       "    }\n",
       "\n",
       "    .dataframe thead th {\n",
       "        text-align: right;\n",
       "    }\n",
       "</style>\n",
       "<table border=\"1\" class=\"dataframe\">\n",
       "  <thead>\n",
       "    <tr style=\"text-align: right;\">\n",
       "      <th></th>\n",
       "      <th>Unnamed: 0</th>\n",
       "      <th>id</th>\n",
       "      <th>product_name</th>\n",
       "      <th>product_descr</th>\n",
       "      <th>ktru_code</th>\n",
       "      <th>ktru_2</th>\n",
       "      <th>ktru_5</th>\n",
       "      <th>ktru_8</th>\n",
       "      <th>ktru_12</th>\n",
       "    </tr>\n",
       "  </thead>\n",
       "  <tbody>\n",
       "    <tr>\n",
       "      <th>282125</th>\n",
       "      <td>773080</td>\n",
       "      <td>1732013</td>\n",
       "      <td>LAN-Кабель / Кабель высокочастотный парной скр...</td>\n",
       "      <td>LAN-Кабель / Кабель высокочастотный парной скр...</td>\n",
       "      <td>27.32.10.000-00000001</td>\n",
       "      <td>27</td>\n",
       "      <td>27.32</td>\n",
       "      <td>27.32.10</td>\n",
       "      <td>27.32.10.000</td>\n",
       "    </tr>\n",
       "    <tr>\n",
       "      <th>245230</th>\n",
       "      <td>262698</td>\n",
       "      <td>330153</td>\n",
       "      <td>Кабель A EPRCab БВнг(А) 3*150мк/25-20</td>\n",
       "      <td>Кабель A EPRCab БВнг(А) 3*150мк/25-20, Кабели ...</td>\n",
       "      <td>27.32.10.000-00000001</td>\n",
       "      <td>27</td>\n",
       "      <td>27.32</td>\n",
       "      <td>27.32.10</td>\n",
       "      <td>27.32.10.000</td>\n",
       "    </tr>\n",
       "    <tr>\n",
       "      <th>245277</th>\n",
       "      <td>262745</td>\n",
       "      <td>330200</td>\n",
       "      <td>Кабель A EPRCab БВнг(А) 3*240мк/25-20</td>\n",
       "      <td>Кабель A EPRCab БВнг(А) 3*240мк/25-20, Кабели ...</td>\n",
       "      <td>27.32.10.000-00000001</td>\n",
       "      <td>27</td>\n",
       "      <td>27.32</td>\n",
       "      <td>27.32.10</td>\n",
       "      <td>27.32.10.000</td>\n",
       "    </tr>\n",
       "    <tr>\n",
       "      <th>245327</th>\n",
       "      <td>262795</td>\n",
       "      <td>330250</td>\n",
       "      <td>Кабель A EPRCab БВнг(А) 3*400мк/120-10</td>\n",
       "      <td>Кабель A EPRCab БВнг(А) 3*400мк/120-10, Кабели...</td>\n",
       "      <td>27.32.10.000-00000001</td>\n",
       "      <td>27</td>\n",
       "      <td>27.32</td>\n",
       "      <td>27.32.10</td>\n",
       "      <td>27.32.10.000</td>\n",
       "    </tr>\n",
       "    <tr>\n",
       "      <th>245176</th>\n",
       "      <td>262644</td>\n",
       "      <td>330099</td>\n",
       "      <td>Кабель A EPRCab БВнг(А) 3*70мк/50-6</td>\n",
       "      <td>Кабель A EPRCab БВнг(А) 3*70мк/50-6, Кабели си...</td>\n",
       "      <td>27.32.10.000-00000001</td>\n",
       "      <td>27</td>\n",
       "      <td>27.32</td>\n",
       "      <td>27.32.10</td>\n",
       "      <td>27.32.10.000</td>\n",
       "    </tr>\n",
       "    <tr>\n",
       "      <th>...</th>\n",
       "      <td>...</td>\n",
       "      <td>...</td>\n",
       "      <td>...</td>\n",
       "      <td>...</td>\n",
       "      <td>...</td>\n",
       "      <td>...</td>\n",
       "      <td>...</td>\n",
       "      <td>...</td>\n",
       "      <td>...</td>\n",
       "    </tr>\n",
       "    <tr>\n",
       "      <th>112449</th>\n",
       "      <td>129899</td>\n",
       "      <td>197316</td>\n",
       "      <td>Провод СИПг-3у 1*95-20</td>\n",
       "      <td>Провод СИПг-3у 1*95-20, Провода для воздушных ...</td>\n",
       "      <td>27.32.10.000-00000001</td>\n",
       "      <td>27</td>\n",
       "      <td>27.32</td>\n",
       "      <td>27.32.10</td>\n",
       "      <td>27.32.10.000</td>\n",
       "    </tr>\n",
       "    <tr>\n",
       "      <th>112814</th>\n",
       "      <td>130264</td>\n",
       "      <td>197681</td>\n",
       "      <td>Провод СИПно-2 3*25+1*35-0.6/1</td>\n",
       "      <td>Провод СИПно-2 3*25+1*35-0.6/1, Провода и шнур...</td>\n",
       "      <td>27.32.10.000-00000001</td>\n",
       "      <td>27</td>\n",
       "      <td>27.32</td>\n",
       "      <td>27.32.10</td>\n",
       "      <td>27.32.10.000</td>\n",
       "    </tr>\n",
       "    <tr>\n",
       "      <th>112895</th>\n",
       "      <td>130345</td>\n",
       "      <td>197762</td>\n",
       "      <td>Провод СИПно-2 3*50+1*70-0.6/1</td>\n",
       "      <td>Провод СИПно-2 3*50+1*70-0.6/1, Провода и шнур...</td>\n",
       "      <td>27.32.10.000-00000001</td>\n",
       "      <td>27</td>\n",
       "      <td>27.32</td>\n",
       "      <td>27.32.10</td>\n",
       "      <td>27.32.10.000</td>\n",
       "    </tr>\n",
       "    <tr>\n",
       "      <th>113094</th>\n",
       "      <td>130544</td>\n",
       "      <td>197961</td>\n",
       "      <td>Провод СИПно-3 1*240-20</td>\n",
       "      <td>Провод СИПно-3 1*240-20, Провода для воздушных...</td>\n",
       "      <td>27.32.10.000-00000001</td>\n",
       "      <td>27</td>\n",
       "      <td>27.32</td>\n",
       "      <td>27.32.10</td>\n",
       "      <td>27.32.10.000</td>\n",
       "    </tr>\n",
       "    <tr>\n",
       "      <th>288926</th>\n",
       "      <td>806221</td>\n",
       "      <td>1841371</td>\n",
       "      <td>Провод марки СИП-2 3х150+1х95-06/1 кВ</td>\n",
       "      <td>Провод марки СИП-2 3х150+1х95-06/1 кВ, Провод ...</td>\n",
       "      <td>27.32.10.000-00000001</td>\n",
       "      <td>27</td>\n",
       "      <td>27.32</td>\n",
       "      <td>27.32.10</td>\n",
       "      <td>27.32.10.000</td>\n",
       "    </tr>\n",
       "  </tbody>\n",
       "</table>\n",
       "<p>5972 rows × 9 columns</p>\n",
       "</div>"
      ],
      "text/plain": [
       "        Unnamed: 0       id  \\\n",
       "282125      773080  1732013   \n",
       "245230      262698   330153   \n",
       "245277      262745   330200   \n",
       "245327      262795   330250   \n",
       "245176      262644   330099   \n",
       "...            ...      ...   \n",
       "112449      129899   197316   \n",
       "112814      130264   197681   \n",
       "112895      130345   197762   \n",
       "113094      130544   197961   \n",
       "288926      806221  1841371   \n",
       "\n",
       "                                             product_name  \\\n",
       "282125  LAN-Кабель / Кабель высокочастотный парной скр...   \n",
       "245230              Кабель A EPRCab БВнг(А) 3*150мк/25-20   \n",
       "245277              Кабель A EPRCab БВнг(А) 3*240мк/25-20   \n",
       "245327             Кабель A EPRCab БВнг(А) 3*400мк/120-10   \n",
       "245176                Кабель A EPRCab БВнг(А) 3*70мк/50-6   \n",
       "...                                                   ...   \n",
       "112449                             Провод СИПг-3у 1*95-20   \n",
       "112814                     Провод СИПно-2 3*25+1*35-0.6/1   \n",
       "112895                     Провод СИПно-2 3*50+1*70-0.6/1   \n",
       "113094                            Провод СИПно-3 1*240-20   \n",
       "288926              Провод марки СИП-2 3х150+1х95-06/1 кВ   \n",
       "\n",
       "                                            product_descr  \\\n",
       "282125  LAN-Кабель / Кабель высокочастотный парной скр...   \n",
       "245230  Кабель A EPRCab БВнг(А) 3*150мк/25-20, Кабели ...   \n",
       "245277  Кабель A EPRCab БВнг(А) 3*240мк/25-20, Кабели ...   \n",
       "245327  Кабель A EPRCab БВнг(А) 3*400мк/120-10, Кабели...   \n",
       "245176  Кабель A EPRCab БВнг(А) 3*70мк/50-6, Кабели си...   \n",
       "...                                                   ...   \n",
       "112449  Провод СИПг-3у 1*95-20, Провода для воздушных ...   \n",
       "112814  Провод СИПно-2 3*25+1*35-0.6/1, Провода и шнур...   \n",
       "112895  Провод СИПно-2 3*50+1*70-0.6/1, Провода и шнур...   \n",
       "113094  Провод СИПно-3 1*240-20, Провода для воздушных...   \n",
       "288926  Провод марки СИП-2 3х150+1х95-06/1 кВ, Провод ...   \n",
       "\n",
       "                    ktru_code  ktru_2  ktru_5    ktru_8       ktru_12  \n",
       "282125  27.32.10.000-00000001      27   27.32  27.32.10  27.32.10.000  \n",
       "245230  27.32.10.000-00000001      27   27.32  27.32.10  27.32.10.000  \n",
       "245277  27.32.10.000-00000001      27   27.32  27.32.10  27.32.10.000  \n",
       "245327  27.32.10.000-00000001      27   27.32  27.32.10  27.32.10.000  \n",
       "245176  27.32.10.000-00000001      27   27.32  27.32.10  27.32.10.000  \n",
       "...                       ...     ...     ...       ...           ...  \n",
       "112449  27.32.10.000-00000001      27   27.32  27.32.10  27.32.10.000  \n",
       "112814  27.32.10.000-00000001      27   27.32  27.32.10  27.32.10.000  \n",
       "112895  27.32.10.000-00000001      27   27.32  27.32.10  27.32.10.000  \n",
       "113094  27.32.10.000-00000001      27   27.32  27.32.10  27.32.10.000  \n",
       "288926  27.32.10.000-00000001      27   27.32  27.32.10  27.32.10.000  \n",
       "\n",
       "[5972 rows x 9 columns]"
      ]
     },
     "execution_count": 3,
     "metadata": {},
     "output_type": "execute_result"
    }
   ],
   "source": [
    "cables = dataset[dataset['ktru_code'] == '27.32.10.000-00000001'].sort_values('product_descr')\n",
    "cables[::42]"
   ]
  },
  {
   "cell_type": "markdown",
   "metadata": {},
   "source": [
    "### Sorting with tokenization"
   ]
  },
  {
   "cell_type": "code",
   "execution_count": 2,
   "metadata": {},
   "outputs": [],
   "source": [
    "dataset = pd.read_csv(\"dataset.csv\")"
   ]
  },
  {
   "cell_type": "code",
   "execution_count": 5,
   "metadata": {},
   "outputs": [
    {
     "data": {
      "text/html": [
       "<div>\n",
       "<style scoped>\n",
       "    .dataframe tbody tr th:only-of-type {\n",
       "        vertical-align: middle;\n",
       "    }\n",
       "\n",
       "    .dataframe tbody tr th {\n",
       "        vertical-align: top;\n",
       "    }\n",
       "\n",
       "    .dataframe thead th {\n",
       "        text-align: right;\n",
       "    }\n",
       "</style>\n",
       "<table border=\"1\" class=\"dataframe\">\n",
       "  <thead>\n",
       "    <tr style=\"text-align: right;\">\n",
       "      <th></th>\n",
       "      <th>Unnamed: 0</th>\n",
       "      <th>id</th>\n",
       "      <th>product_name</th>\n",
       "      <th>product_descr</th>\n",
       "      <th>ktru_code</th>\n",
       "      <th>ktru_2</th>\n",
       "      <th>ktru_5</th>\n",
       "      <th>ktru_8</th>\n",
       "      <th>ktru_12</th>\n",
       "    </tr>\n",
       "  </thead>\n",
       "  <tbody>\n",
       "    <tr>\n",
       "      <th>282125</th>\n",
       "      <td>773080</td>\n",
       "      <td>1732013</td>\n",
       "      <td>LAN-Кабель / Кабель высокочастотный парной скр...</td>\n",
       "      <td>LAN-Кабель / Кабель высокочастотный парной скр...</td>\n",
       "      <td>27.32.10.000-00000001</td>\n",
       "      <td>27</td>\n",
       "      <td>27.32</td>\n",
       "      <td>27.32.10</td>\n",
       "      <td>27.32.10.000</td>\n",
       "    </tr>\n",
       "  </tbody>\n",
       "</table>\n",
       "</div>"
      ],
      "text/plain": [
       "        Unnamed: 0       id  \\\n",
       "282125      773080  1732013   \n",
       "\n",
       "                                             product_name  \\\n",
       "282125  LAN-Кабель / Кабель высокочастотный парной скр...   \n",
       "\n",
       "                                            product_descr  \\\n",
       "282125  LAN-Кабель / Кабель высокочастотный парной скр...   \n",
       "\n",
       "                    ktru_code  ktru_2  ktru_5    ktru_8       ktru_12  \n",
       "282125  27.32.10.000-00000001      27   27.32  27.32.10  27.32.10.000  "
      ]
     },
     "execution_count": 5,
     "metadata": {},
     "output_type": "execute_result"
    }
   ],
   "source": [
    "cables[:1:]"
   ]
  },
  {
   "cell_type": "code",
   "execution_count": 4,
   "metadata": {},
   "outputs": [],
   "source": [
    "tokenizer = NatashaTokenizer()"
   ]
  },
  {
   "cell_type": "code",
   "execution_count": null,
   "metadata": {},
   "outputs": [],
   "source": [
    "a = lambda x: ' '.join(tokenizer.tokenize(x, remove_numbers=True))"
   ]
  },
  {
   "cell_type": "code",
   "execution_count": 19,
   "metadata": {},
   "outputs": [],
   "source": [
    "tokenized_cables = cables[:]['product_name'].apply(lambda x: ' '.join(tokenizer.tokenize(x, remove_numbers=True)))\n",
    "tokenized_cables"
   ]
  },
  {
   "cell_type": "code",
   "execution_count": null,
   "metadata": {},
   "outputs": [],
   "source": [
    "tokenized_cables.to_csv(\"tokenized_cables.csv\")"
   ]
  },
  {
   "cell_type": "code",
   "execution_count": 10,
   "metadata": {},
   "outputs": [],
   "source": [
    "t = cables[:3:]['product_name'].apply(tokenizer.tokenize, args=[True])"
   ]
  },
  {
   "cell_type": "code",
   "execution_count": 11,
   "metadata": {},
   "outputs": [
    {
     "data": {
      "text/plain": [
       "[['lan-кабель',\n",
       "  'кабель',\n",
       "  'высокочастотный',\n",
       "  'парный',\n",
       "  'скрутка',\n",
       "  'структурированный',\n",
       "  'кабельный',\n",
       "  'система'],\n",
       " ['lan-кабель',\n",
       "  'кабель',\n",
       "  'высокочастотный',\n",
       "  'парный',\n",
       "  'скрутка',\n",
       "  'структурированный',\n",
       "  'кабельный',\n",
       "  'система'],\n",
       " ['lan-кабель',\n",
       "  'кабель',\n",
       "  'высокочастотный',\n",
       "  'парный',\n",
       "  'скрутка',\n",
       "  'структурированный',\n",
       "  'кабельный',\n",
       "  'система']]"
      ]
     },
     "execution_count": 11,
     "metadata": {},
     "output_type": "execute_result"
    }
   ],
   "source": [
    "list(t)"
   ]
  }
 ],
 "metadata": {
  "kernelspec": {
   "display_name": "Python 3.8.8 ('base')",
   "language": "python",
   "name": "python3"
  },
  "language_info": {
   "codemirror_mode": {
    "name": "ipython",
    "version": 3
   },
   "file_extension": ".py",
   "mimetype": "text/x-python",
   "name": "python",
   "nbconvert_exporter": "python",
   "pygments_lexer": "ipython3",
   "version": "3.8.8"
  },
  "orig_nbformat": 4,
  "vscode": {
   "interpreter": {
    "hash": "82ca00de6dfeb9e2eef59d83b518ae9b61e5781747466ffa06053c845d8d3ce9"
   }
  }
 },
 "nbformat": 4,
 "nbformat_minor": 2
}
